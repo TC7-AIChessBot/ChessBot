{
 "cells": [
  {
   "cell_type": "code",
   "execution_count": 5,
   "metadata": {},
   "outputs": [],
   "source": [
    "import chess\n",
    "import chess.engine\n",
    "import sys\n",
    "from sys import platform\n"
   ]
  },
  {
   "cell_type": "code",
   "execution_count": 6,
   "metadata": {},
   "outputs": [],
   "source": [
    "! chmod +x ./stockfish_14.1_linux_x64/stockfish_14.1_linux_x64"
   ]
  },
  {
   "cell_type": "code",
   "execution_count": 7,
   "metadata": {},
   "outputs": [],
   "source": [
    "# from sys import platform as _platform\n",
    "\n",
    "# if _platform == \"linux\" or _platform == \"linux2\":\n",
    "#     # linux\n",
    "# elif _platform == \"darwin\":\n",
    "#     # MAC OS X\n",
    "# elif _platform == \"win32\":\n",
    "#     # Windows\n",
    "# elif _platform == \"win64\":\n",
    "#     # Windows 64-bit\n"
   ]
  },
  {
   "cell_type": "code",
   "execution_count": 14,
   "metadata": {},
   "outputs": [
    {
     "name": "stdout",
     "output_type": "stream",
     "text": [
      "r n b q k b n r\n",
      "p p p p p p p p\n",
      ". . . . . . . .\n",
      ". . . . . . . .\n",
      ". . . . P . . .\n",
      ". . . . . . . .\n",
      "P P P P . P P P\n",
      "R N B Q K B N R\n",
      "r n b q k b n r\n",
      "p p . p p p p p\n",
      ". . . . . . . .\n",
      ". . p . . . . .\n",
      ". . . . P . . .\n",
      ". . . . . . . .\n",
      "P P P P . P P P\n",
      "R N B Q K B N R\n",
      "r n b q k b n r\n",
      "p p . p p p p p\n",
      ". . . . . . . .\n",
      ". . p . . . . .\n",
      ". . . . P . . .\n",
      ". . . . . N . .\n",
      "P P P P . P P P\n",
      "R N B Q K B . R\n",
      "r . b q k b n r\n",
      "p p . p p p p p\n",
      ". . n . . . . .\n",
      ". . p . . . . .\n",
      ". . . . P . . .\n",
      ". . . . . N . .\n",
      "P P P P . P P P\n",
      "R N B Q K B . R\n",
      "r . b q k b n r\n",
      "p p . p p p p p\n",
      ". . n . . . . .\n",
      ". B p . . . . .\n",
      ". . . . P . . .\n",
      ". . . . . N . .\n",
      "P P P P . P P P\n",
      "R N B Q K . . R\n",
      "r . b q k b n r\n",
      "p p . p p p . p\n",
      ". . n . . . p .\n",
      ". B p . . . . .\n",
      ". . . . P . . .\n",
      ". . . . . N . .\n",
      "P P P P . P P P\n",
      "R N B Q K . . R\n",
      "r . b q k b n r\n",
      "p p . p p p . p\n",
      ". . B . . . p .\n",
      ". . p . . . . .\n",
      ". . . . P . . .\n",
      ". . . . . N . .\n",
      "P P P P . P P P\n",
      "R N B Q K . . R\n",
      "r . b q k b n r\n",
      "p . . p p p . p\n",
      ". . p . . . p .\n",
      ". . p . . . . .\n",
      ". . . . P . . .\n",
      ". . . . . N . .\n",
      "P P P P . P P P\n",
      "R N B Q K . . R\n",
      "r . b q k b n r\n",
      "p . . p p p . p\n",
      ". . p . . . p .\n",
      ". . p . . . . .\n",
      ". . . . P . . .\n",
      ". . . . . N . .\n",
      "P P P P . P P P\n",
      "R N B Q . R K .\n",
      "r . b q k . n r\n",
      "p . . p p p b p\n",
      ". . p . . . p .\n",
      ". . p . . . . .\n",
      ". . . . P . . .\n",
      ". . . . . N . .\n",
      "P P P P . P P P\n",
      "R N B Q . R K .\n",
      "r . b q k . n r\n",
      "p . . p p p b p\n",
      ". . p . . . p .\n",
      ". . p . . . . .\n",
      ". . . . P . . .\n",
      ". . . . . N . .\n",
      "P P P P . P P P\n",
      "R N B Q R . K .\n",
      "r . b q k . . r\n",
      "p . . p p p b p\n",
      ". . p . . n p .\n",
      ". . p . . . . .\n",
      ". . . . P . . .\n",
      ". . . . . N . .\n",
      "P P P P . P P P\n",
      "R N B Q R . K .\n",
      "r . b q k . . r\n",
      "p . . p p p b p\n",
      ". . p . . n p .\n",
      ". . p . P . . .\n",
      ". . . . . . . .\n",
      ". . . . . N . .\n",
      "P P P P . P P P\n",
      "R N B Q R . K .\n",
      "r . b q k . . r\n",
      "p . . p p p b p\n",
      ". . p . . . p .\n",
      ". . p n P . . .\n",
      ". . . . . . . .\n",
      ". . . . . N . .\n",
      "P P P P . P P P\n",
      "R N B Q R . K .\n",
      "r . b q k . . r\n",
      "p . . p p p b p\n",
      ". . p . . . p .\n",
      ". . p n P . . .\n",
      ". . P . . . . .\n",
      ". . . . . N . .\n",
      "P P . P . P P P\n",
      "R N B Q R . K .\n",
      "r . b q k . . r\n",
      "p . n p p p b p\n",
      ". . p . . . p .\n",
      ". . p . P . . .\n",
      ". . P . . . . .\n",
      ". . . . . N . .\n",
      "P P . P . P P P\n",
      "R N B Q R . K .\n"
     ]
    },
    {
     "ename": "KeyboardInterrupt",
     "evalue": "",
     "output_type": "error",
     "traceback": [
      "\u001b[0;31m---------------------------------------------------------------------------\u001b[0m",
      "\u001b[0;31mKeyboardInterrupt\u001b[0m                         Traceback (most recent call last)",
      "\u001b[0;32m/tmp/ipykernel_42171/3675135041.py\u001b[0m in \u001b[0;36m<module>\u001b[0;34m\u001b[0m\n\u001b[1;32m      6\u001b[0m \u001b[0mboard\u001b[0m \u001b[0;34m=\u001b[0m \u001b[0mchess\u001b[0m\u001b[0;34m.\u001b[0m\u001b[0mBoard\u001b[0m\u001b[0;34m(\u001b[0m\u001b[0;34m)\u001b[0m\u001b[0;34m\u001b[0m\u001b[0;34m\u001b[0m\u001b[0m\n\u001b[1;32m      7\u001b[0m \u001b[0;32mwhile\u001b[0m \u001b[0;32mnot\u001b[0m \u001b[0mboard\u001b[0m\u001b[0;34m.\u001b[0m\u001b[0mis_game_over\u001b[0m\u001b[0;34m(\u001b[0m\u001b[0;34m)\u001b[0m\u001b[0;34m:\u001b[0m\u001b[0;34m\u001b[0m\u001b[0;34m\u001b[0m\u001b[0m\n\u001b[0;32m----> 8\u001b[0;31m     \u001b[0mresult\u001b[0m \u001b[0;34m=\u001b[0m \u001b[0mengine\u001b[0m\u001b[0;34m.\u001b[0m\u001b[0mplay\u001b[0m\u001b[0;34m(\u001b[0m\u001b[0mboard\u001b[0m\u001b[0;34m,\u001b[0m \u001b[0mchess\u001b[0m\u001b[0;34m.\u001b[0m\u001b[0mengine\u001b[0m\u001b[0;34m.\u001b[0m\u001b[0mLimit\u001b[0m\u001b[0;34m(\u001b[0m\u001b[0mtime\u001b[0m\u001b[0;34m=\u001b[0m\u001b[0;36m1\u001b[0m\u001b[0;34m)\u001b[0m\u001b[0;34m)\u001b[0m\u001b[0;34m\u001b[0m\u001b[0;34m\u001b[0m\u001b[0m\n\u001b[0m\u001b[1;32m      9\u001b[0m     \u001b[0mboard\u001b[0m\u001b[0;34m.\u001b[0m\u001b[0mpush\u001b[0m\u001b[0;34m(\u001b[0m\u001b[0mresult\u001b[0m\u001b[0;34m.\u001b[0m\u001b[0mmove\u001b[0m\u001b[0;34m)\u001b[0m\u001b[0;34m\u001b[0m\u001b[0;34m\u001b[0m\u001b[0m\n\u001b[1;32m     10\u001b[0m     \u001b[0mprint\u001b[0m\u001b[0;34m(\u001b[0m\u001b[0mboard\u001b[0m\u001b[0;34m)\u001b[0m\u001b[0;34m\u001b[0m\u001b[0;34m\u001b[0m\u001b[0m\n",
      "\u001b[0;32m~/.local/lib/python3.9/site-packages/chess/engine.py\u001b[0m in \u001b[0;36mplay\u001b[0;34m(self, board, limit, game, info, ponder, draw_offered, root_moves, options)\u001b[0m\n\u001b[1;32m   2748\u001b[0m                 self._timeout_for(limit))\n\u001b[1;32m   2749\u001b[0m             \u001b[0mfuture\u001b[0m \u001b[0;34m=\u001b[0m \u001b[0masyncio\u001b[0m\u001b[0;34m.\u001b[0m\u001b[0mrun_coroutine_threadsafe\u001b[0m\u001b[0;34m(\u001b[0m\u001b[0mcoro\u001b[0m\u001b[0;34m,\u001b[0m \u001b[0mself\u001b[0m\u001b[0;34m.\u001b[0m\u001b[0mprotocol\u001b[0m\u001b[0;34m.\u001b[0m\u001b[0mloop\u001b[0m\u001b[0;34m)\u001b[0m\u001b[0;34m\u001b[0m\u001b[0;34m\u001b[0m\u001b[0m\n\u001b[0;32m-> 2750\u001b[0;31m         \u001b[0;32mreturn\u001b[0m \u001b[0mfuture\u001b[0m\u001b[0;34m.\u001b[0m\u001b[0mresult\u001b[0m\u001b[0;34m(\u001b[0m\u001b[0;34m)\u001b[0m\u001b[0;34m\u001b[0m\u001b[0;34m\u001b[0m\u001b[0m\n\u001b[0m\u001b[1;32m   2751\u001b[0m \u001b[0;34m\u001b[0m\u001b[0m\n\u001b[1;32m   2752\u001b[0m     \u001b[0;34m@\u001b[0m\u001b[0mtyping\u001b[0m\u001b[0;34m.\u001b[0m\u001b[0moverload\u001b[0m\u001b[0;34m\u001b[0m\u001b[0;34m\u001b[0m\u001b[0m\n",
      "\u001b[0;32m/usr/lib/python3.9/concurrent/futures/_base.py\u001b[0m in \u001b[0;36mresult\u001b[0;34m(self, timeout)\u001b[0m\n\u001b[1;32m    438\u001b[0m                     \u001b[0;32mreturn\u001b[0m \u001b[0mself\u001b[0m\u001b[0;34m.\u001b[0m\u001b[0m__get_result\u001b[0m\u001b[0;34m(\u001b[0m\u001b[0;34m)\u001b[0m\u001b[0;34m\u001b[0m\u001b[0;34m\u001b[0m\u001b[0m\n\u001b[1;32m    439\u001b[0m \u001b[0;34m\u001b[0m\u001b[0m\n\u001b[0;32m--> 440\u001b[0;31m                 \u001b[0mself\u001b[0m\u001b[0;34m.\u001b[0m\u001b[0m_condition\u001b[0m\u001b[0;34m.\u001b[0m\u001b[0mwait\u001b[0m\u001b[0;34m(\u001b[0m\u001b[0mtimeout\u001b[0m\u001b[0;34m)\u001b[0m\u001b[0;34m\u001b[0m\u001b[0;34m\u001b[0m\u001b[0m\n\u001b[0m\u001b[1;32m    441\u001b[0m \u001b[0;34m\u001b[0m\u001b[0m\n\u001b[1;32m    442\u001b[0m                 \u001b[0;32mif\u001b[0m \u001b[0mself\u001b[0m\u001b[0;34m.\u001b[0m\u001b[0m_state\u001b[0m \u001b[0;32min\u001b[0m \u001b[0;34m[\u001b[0m\u001b[0mCANCELLED\u001b[0m\u001b[0;34m,\u001b[0m \u001b[0mCANCELLED_AND_NOTIFIED\u001b[0m\u001b[0;34m]\u001b[0m\u001b[0;34m:\u001b[0m\u001b[0;34m\u001b[0m\u001b[0;34m\u001b[0m\u001b[0m\n",
      "\u001b[0;32m/usr/lib/python3.9/threading.py\u001b[0m in \u001b[0;36mwait\u001b[0;34m(self, timeout)\u001b[0m\n\u001b[1;32m    310\u001b[0m         \u001b[0;32mtry\u001b[0m\u001b[0;34m:\u001b[0m    \u001b[0;31m# restore state no matter what (e.g., KeyboardInterrupt)\u001b[0m\u001b[0;34m\u001b[0m\u001b[0;34m\u001b[0m\u001b[0m\n\u001b[1;32m    311\u001b[0m             \u001b[0;32mif\u001b[0m \u001b[0mtimeout\u001b[0m \u001b[0;32mis\u001b[0m \u001b[0;32mNone\u001b[0m\u001b[0;34m:\u001b[0m\u001b[0;34m\u001b[0m\u001b[0;34m\u001b[0m\u001b[0m\n\u001b[0;32m--> 312\u001b[0;31m                 \u001b[0mwaiter\u001b[0m\u001b[0;34m.\u001b[0m\u001b[0macquire\u001b[0m\u001b[0;34m(\u001b[0m\u001b[0;34m)\u001b[0m\u001b[0;34m\u001b[0m\u001b[0;34m\u001b[0m\u001b[0m\n\u001b[0m\u001b[1;32m    313\u001b[0m                 \u001b[0mgotit\u001b[0m \u001b[0;34m=\u001b[0m \u001b[0;32mTrue\u001b[0m\u001b[0;34m\u001b[0m\u001b[0;34m\u001b[0m\u001b[0m\n\u001b[1;32m    314\u001b[0m             \u001b[0;32melse\u001b[0m\u001b[0;34m:\u001b[0m\u001b[0;34m\u001b[0m\u001b[0;34m\u001b[0m\u001b[0m\n",
      "\u001b[0;31mKeyboardInterrupt\u001b[0m: "
     ]
    }
   ],
   "source": [
    "import chess\n",
    "import chess.engine\n",
    "\n",
    "engine = chess.engine.SimpleEngine.popen_uci(r\"./stockfish_14.1_linux_x64/stockfish_14.1_linux_x64\")\n",
    "\n",
    "board = chess.Board()\n",
    "while not board.is_game_over():\n",
    "    result = engine.play(board, chess.engine.Limit(time=1))\n",
    "    board.push(result.move)\n",
    "    print(board)\n",
    "\n",
    "engine.quit()"
   ]
  },
  {
   "cell_type": "code",
   "execution_count": 12,
   "metadata": {},
   "outputs": [
    {
     "data": {
      "text/plain": [
       "True"
      ]
     },
     "execution_count": 12,
     "metadata": {},
     "output_type": "execute_result"
    }
   ],
   "source": [
    "def find_move(board):\n",
    "    result = engine.play(board, chess.engine.Limit(time=1))\n",
    "    return result.move\n"
   ]
  },
  {
   "cell_type": "code",
   "execution_count": null,
   "metadata": {},
   "outputs": [],
   "source": []
  }
 ],
 "metadata": {
  "interpreter": {
   "hash": "f9f85f796d01129d0dd105a088854619f454435301f6ffec2fea96ecbd9be4ac"
  },
  "kernelspec": {
   "display_name": "Python 3.9.5 64-bit",
   "language": "python",
   "name": "python3"
  },
  "language_info": {
   "codemirror_mode": {
    "name": "ipython",
    "version": 3
   },
   "file_extension": ".py",
   "mimetype": "text/x-python",
   "name": "python",
   "nbconvert_exporter": "python",
   "pygments_lexer": "ipython3",
   "version": "3.9.5"
  },
  "orig_nbformat": 4
 },
 "nbformat": 4,
 "nbformat_minor": 2
}
