{
 "cells": [
  {
   "cell_type": "code",
   "execution_count": 14,
   "metadata": {},
   "outputs": [],
   "source": [
    "import sys\n",
    "sys.path.insert(0, './algorithms/alpha_beta')\n",
    "sys.path.insert(0, './algorithms/dqn')\n",
    "sys.path.insert(0, './algorithms/stockfish')"
   ]
  },
  {
   "cell_type": "code",
   "execution_count": 15,
   "metadata": {},
   "outputs": [],
   "source": [
    "from algorithms.MyChessBoard import MyChessBoard\n",
    "from algorithms.alpha_beta.Alpha_Beta import find_move as alpha_beta_find_move\n",
    "from algorithms.dqn.dqn_bot import find_move as dqn_find_move\n",
    "from algorithms.dqn.dqn_sf_bot import find_move as dqn_vs_sf_find_move\n",
    "from algorithms.stockfish.stockfish_bot import find_move as stockfish_find_move"
   ]
  },
  {
   "cell_type": "code",
   "execution_count": 16,
   "metadata": {},
   "outputs": [],
   "source": [
    "import numpy as np\n",
    "from tensorflow.keras.models import Sequential\n",
    "from tensorflow.keras.layers import Dense, Activation, Flatten,\\\n",
    "     Input,BatchNormalization, Dropout"
   ]
  },
  {
   "cell_type": "code",
   "execution_count": 17,
   "metadata": {},
   "outputs": [],
   "source": [
    "STATE_SHAPE = (65, )\n",
    "NB_ACTIONS = 4096\n"
   ]
  },
  {
   "cell_type": "code",
   "execution_count": 18,
   "metadata": {},
   "outputs": [
    {
     "name": "stdout",
     "output_type": "stream",
     "text": [
      "WARNING:tensorflow:Please add `keras.layers.InputLayer` instead of `keras.Input` to Sequential model. `keras.Input` is intended to be used by Functional model.\n"
     ]
    }
   ],
   "source": [
    "model_dqn = Sequential()\n",
    "model_dqn.add(Input((1, ) + STATE_SHAPE))\n",
    "model_dqn.add(Flatten())\n",
    "model_dqn.add(Dense(128, activation='relu'))\n",
    "model_dqn.add(Dropout(0.2))\n",
    "model_dqn.add(BatchNormalization())\n",
    "model_dqn.add(Dense(128, activation='relu'))\n",
    "model_dqn.add(Dropout(0.2))\n",
    "model_dqn.add(BatchNormalization())\n",
    "model_dqn.add(Dense(NB_ACTIONS))\n",
    "model_dqn.add(Activation('linear'))\n",
    "model_dqn.load_weights('chess_dqn_model.h5')\n"
   ]
  },
  {
   "cell_type": "code",
   "execution_count": 19,
   "metadata": {},
   "outputs": [
    {
     "name": "stdout",
     "output_type": "stream",
     "text": [
      "WARNING:tensorflow:Please add `keras.layers.InputLayer` instead of `keras.Input` to Sequential model. `keras.Input` is intended to be used by Functional model.\n"
     ]
    }
   ],
   "source": [
    "model_dqn_sf = Sequential()\n",
    "model_dqn_sf.add(Input((1, ) + STATE_SHAPE))\n",
    "model_dqn_sf.add(Flatten())\n",
    "model_dqn_sf.add(Dense(128, activation='relu'))\n",
    "model_dqn_sf.add(Dropout(0.2))\n",
    "model_dqn_sf.add(BatchNormalization())\n",
    "model_dqn_sf.add(Dense(128, activation='relu'))\n",
    "model_dqn_sf.add(Dropout(0.2))\n",
    "model_dqn_sf.add(BatchNormalization())\n",
    "model_dqn_sf.add(Dense(NB_ACTIONS))\n",
    "model_dqn_sf.add(Activation('linear'))\n",
    "model_dqn_sf.load_weights('chess_dqn_vs_sf_model.h5')"
   ]
  },
  {
   "cell_type": "code",
   "execution_count": 20,
   "metadata": {},
   "outputs": [],
   "source": [
    "board = MyChessBoard()"
   ]
  },
  {
   "cell_type": "code",
   "execution_count": 21,
   "metadata": {},
   "outputs": [
    {
     "data": {
      "text/plain": [
       "array([[ -40.,  -20.,  -30.,  -50., -900.,  -30.,  -20.,  -40.],\n",
       "       [ -10.,  -10.,  -10.,  -10.,  -10.,  -10.,  -10.,  -10.],\n",
       "       [   0.,    0.,    0.,    0.,    0.,    0.,    0.,    0.],\n",
       "       [   0.,    0.,    0.,    0.,    0.,    0.,    0.,    0.],\n",
       "       [   0.,    0.,    0.,    0.,    0.,    0.,    0.,    0.],\n",
       "       [   0.,    0.,    0.,    0.,    0.,    0.,    0.,    0.],\n",
       "       [  10.,   10.,   10.,   10.,   10.,   10.,   10.,   10.],\n",
       "       [  40.,   20.,   30.,   50.,  900.,   30.,   20.,   40.]])"
      ]
     },
     "execution_count": 21,
     "metadata": {},
     "output_type": "execute_result"
    }
   ],
   "source": [
    "board.convert_board_to_int()"
   ]
  },
  {
   "cell_type": "code",
   "execution_count": 22,
   "metadata": {},
   "outputs": [
    {
     "data": {
      "text/plain": [
       "array([-4125.982 , -3346.2021, -3559.5508, ..., -3943.0579, -3572.4902,\n",
       "       -4092.5286], dtype=float32)"
      ]
     },
     "execution_count": 22,
     "metadata": {},
     "output_type": "execute_result"
    }
   ],
   "source": [
    "state = board.get_state()\n",
    "model_dqn.predict(state.reshape((1, 1) + STATE_SHAPE)).reshape(-1, )"
   ]
  },
  {
   "cell_type": "code",
   "execution_count": 23,
   "metadata": {},
   "outputs": [
    {
     "data": {
      "text/plain": [
       "Move.from_uci('b1c3')"
      ]
     },
     "execution_count": 23,
     "metadata": {},
     "output_type": "execute_result"
    }
   ],
   "source": [
    "dqn_find_move(board, model_dqn)"
   ]
  },
  {
   "cell_type": "code",
   "execution_count": 24,
   "metadata": {},
   "outputs": [],
   "source": [
    "name = [\"Alpha_Beta\", \"DQN\", \"DQN_sf\", \"Stockfish\"]\n",
    "find = [alpha_beta_find_move, dqn_find_move, dqn_vs_sf_find_move, stockfish_find_move]\n",
    "\n",
    "result = np.zeros((4, 4))\n",
    "mean_step = np.zeros((4, 4))"
   ]
  },
  {
   "cell_type": "code",
   "execution_count": 25,
   "metadata": {},
   "outputs": [
    {
     "name": "stdout",
     "output_type": "stream",
     "text": [
      "0 vs 1 : 0\n"
     ]
    }
   ],
   "source": [
    "num_battle_with_com1 = 50\n",
    "com1 = 0\n",
    "\n",
    "com2 = 1\n",
    "num_step = []\n",
    "for i in range (num_battle_with_com1):\n",
    "    print(com1, \"vs\", com2, \":\", i)\n",
    "    board = MyChessBoard()\n",
    "    done = False\n",
    "    step = 0\n",
    "    if i < num_battle_with_com1/2:\n",
    "        while not done:\n",
    "            step += 1\n",
    "            board.push(find[com1](board))\n",
    "            if board.is_checkmate(): \n",
    "                result[com1, com2] += 1\n",
    "                done = True\n",
    "                continue\n",
    "            if board.is_draw(): \n",
    "                done = True\n",
    "                continue\n",
    "            board.push(find[com2](board, model_dqn))\n",
    "            if board.is_checkmate(): \n",
    "                result[com2, com1] += 1\n",
    "                done = True\n",
    "            if board.is_draw(): \n",
    "                done = True\n",
    "    else:\n",
    "        while not done:\n",
    "            step += 1\n",
    "            board.push(find[com2](board, model_dqn))\n",
    "            if board.is_checkmate(): \n",
    "                result[com2, com1] += 1\n",
    "                done = True\n",
    "                continue\n",
    "            if board.is_draw(): \n",
    "                done = True\n",
    "                continue\n",
    "            board.push(find[com1](board))\n",
    "            if board.is_checkmate(): \n",
    "                result[com1, com2] += 1\n",
    "                done = True\n",
    "            if board.is_draw(): \n",
    "                done = True\n",
    "    num_step.append(step)\n",
    "mean_step[com1, com2] = np.mean(num_step)\n",
    "\n",
    "\n",
    "com2 = 2\n",
    "num_step = []\n",
    "for i in range (num_battle_with_com1):\n",
    "    print(com1, \"vs\", com2, \":\", i)\n",
    "    board = MyChessBoard()\n",
    "    done = False\n",
    "    if i < num_battle_with_com1/2:\n",
    "        while not done:\n",
    "            step += 1\n",
    "            board.push(find[com1](board))\n",
    "            if board.is_checkmate(): \n",
    "                result[com1, com2] += 1\n",
    "                done = True\n",
    "                continue\n",
    "            if board.is_draw(): \n",
    "                done = True\n",
    "                continue\n",
    "            board.push(find[com2](board, model_dqn_sf))\n",
    "            if board.is_checkmate(): \n",
    "                result[com2, com1] += 1\n",
    "                done = True\n",
    "            if board.is_draw(): \n",
    "                done = True\n",
    "    else:\n",
    "        while not done:\n",
    "            step += 1\n",
    "            board.push(find[com2](board, model_dqn_sf))\n",
    "            if board.is_checkmate(): \n",
    "                result[com2, com1] += 1\n",
    "                done = True\n",
    "                continue\n",
    "            if board.is_draw(): \n",
    "                done = True\n",
    "                continue\n",
    "            board.push(find[com1](board))\n",
    "            if board.is_checkmate(): \n",
    "                result[com1, com2] += 1\n",
    "                done = True\n",
    "            if board.is_draw(): \n",
    "                done = True\n",
    "    num_step.append(step)\n",
    "mean_step[com1, com2] = np.mean(num_step)\n",
    "\n",
    "\n",
    "com2 = 3\n",
    "num_step = []\n",
    "for i in range (num_battle_with_com1):\n",
    "    print(com1, \"vs\", com2, \":\", i)\n",
    "    board = MyChessBoard()\n",
    "    done = False\n",
    "    if i < num_battle_with_com1/2:\n",
    "        while not done:\n",
    "            step += 1\n",
    "            board.push(find[com1](board))\n",
    "            if board.is_checkmate(): \n",
    "                result[com1, com2] += 1\n",
    "                done = True\n",
    "                continue\n",
    "            if board.is_draw(): \n",
    "                done = True\n",
    "                continue\n",
    "            board.push(find[com2](board))\n",
    "            if board.is_checkmate(): \n",
    "                result[com2, com1] += 1\n",
    "                done = True\n",
    "            if board.is_draw(): \n",
    "                done = True\n",
    "    else:\n",
    "        while not done:\n",
    "            step += 1\n",
    "            board.push(find[com2](board))\n",
    "            if board.is_checkmate(): \n",
    "                result[com2, com1] += 1\n",
    "                done = True\n",
    "                continue\n",
    "            if board.is_draw(): \n",
    "                done = True\n",
    "                continue\n",
    "            board.push(find[com1](board))\n",
    "            if board.is_checkmate(): \n",
    "                result[com1, com2] += 1\n",
    "                done = True\n",
    "            if board.is_draw(): \n",
    "                done = True\n",
    "    num_step.append(step)\n",
    "mean_step[com1, com2] = np.mean(num_step)\n"
   ]
  },
  {
   "cell_type": "code",
   "execution_count": null,
   "metadata": {},
   "outputs": [],
   "source": [
    "com1 = 1\n",
    "num_battle_with_com1 = 100\n",
    "\n",
    "com2 = 2\n",
    "num_step = []\n",
    "for i in range (num_battle_with_com1):\n",
    "    print(com1, \"vs\", com2, \":\", i)\n",
    "    board = MyChessBoard()\n",
    "    done = False\n",
    "    if i < num_battle_with_com1/2:\n",
    "        while not done:\n",
    "            step += 1\n",
    "            board.push(find[com1](board, model_dqn))\n",
    "            if board.is_checkmate(): \n",
    "                result[com1, com2] += 1\n",
    "                done = True\n",
    "                continue\n",
    "            if board.is_draw(): \n",
    "                done = True\n",
    "                continue\n",
    "            board.push(find[com2](board, model_dqn_sf))\n",
    "            if board.is_checkmate(): \n",
    "                result[com2, com1] += 1\n",
    "                done = True\n",
    "            if board.is_draw(): \n",
    "                done = True\n",
    "    else:\n",
    "        while not done:\n",
    "            step += 1\n",
    "            board.push(find[com2](board, model_dqn_sf))\n",
    "            if board.is_checkmate(): \n",
    "                result[com2, com1] += 1\n",
    "                done = True\n",
    "                continue\n",
    "            if board.is_draw(): \n",
    "                done = True\n",
    "                continue\n",
    "            board.push(find[com1](board, model_dqn))\n",
    "            if board.is_checkmate(): \n",
    "                result[com1, com2] += 1\n",
    "                done = True\n",
    "            if board.is_draw(): \n",
    "                done = True\n",
    "    num_step.append(step)\n",
    "mean_step[com1, com2] = np.mean(num_step)\n",
    "\n",
    "com2 = 3\n",
    "num_step = []\n",
    "for i in range (num_battle_with_com1):\n",
    "    print(com1, \"vs\", com2, \":\", i)\n",
    "    board = MyChessBoard()\n",
    "    done = False\n",
    "    if i < num_battle_with_com1/2:\n",
    "        while not done:\n",
    "            step += 1\n",
    "            board.push(find[com1](board, model_dqn))\n",
    "            if board.is_checkmate(): \n",
    "                result[com1, com2] += 1\n",
    "                done = True\n",
    "                continue\n",
    "            if board.is_draw(): \n",
    "                done = True\n",
    "                continue\n",
    "            board.push(find[com2](board))\n",
    "            if board.is_checkmate(): \n",
    "                result[com2, com1] += 1\n",
    "                done = True\n",
    "            if board.is_draw(): \n",
    "                done = True\n",
    "    else:\n",
    "        while not done:\n",
    "            step += 1\n",
    "            board.push(find[com2](board))\n",
    "            if board.is_checkmate(): \n",
    "                result[com2, com1] += 1\n",
    "                done = True\n",
    "                continue\n",
    "            if board.is_draw(): \n",
    "                done = True\n",
    "                continue\n",
    "            board.push(find[com1](board, model_dqn))\n",
    "            if board.is_checkmate(): \n",
    "                result[com1, com2] += 1\n",
    "                done = True\n",
    "            if board.is_draw(): \n",
    "                done = True\n",
    "    num_step.append(step)\n",
    "mean_step[com1, com2] = np.mean(num_step)\n"
   ]
  },
  {
   "cell_type": "code",
   "execution_count": null,
   "metadata": {},
   "outputs": [],
   "source": [
    "com1 = 2\n",
    "num_battle_with_com1 = 100\n",
    "\n",
    "com2 = 3\n",
    "num_step = []\n",
    "for i in range (num_battle_with_com1):\n",
    "    print(com1, \"vs\", com2, \":\", i)\n",
    "    board = MyChessBoard()\n",
    "    done = False\n",
    "    if i < num_battle_with_com1/2:\n",
    "        while not done:\n",
    "            step += 1\n",
    "            board.push(find[com1](board, model_dqn_sf))\n",
    "            if board.is_checkmate(): \n",
    "                result[com1, com2] += 1\n",
    "                done = True\n",
    "                continue\n",
    "            if board.is_draw(): \n",
    "                done = True\n",
    "                continue\n",
    "            board.push(find[com2](board))\n",
    "            if board.is_checkmate(): \n",
    "                result[com2, com1] += 1\n",
    "                done = True\n",
    "            if board.is_draw(): \n",
    "                done = True\n",
    "    else:\n",
    "        while not done:\n",
    "            step += 1\n",
    "            board.push(find[com2](board))\n",
    "            if board.is_checkmate(): \n",
    "                result[com2, com1] += 1\n",
    "                done = True\n",
    "                continue\n",
    "            if board.is_draw(): \n",
    "                done = True\n",
    "                continue\n",
    "            board.push(find[com1](board, model_dqn_sf))\n",
    "            if board.is_checkmate(): \n",
    "                result[com1, com2] += 1\n",
    "                done = True\n",
    "            if board.is_draw(): \n",
    "                done = True\n",
    "    num_step.append(step)\n",
    "mean_step[com1, com2] = np.mean(num_step)\n"
   ]
  },
  {
   "cell_type": "code",
   "execution_count": null,
   "metadata": {},
   "outputs": [],
   "source": [
    "result"
   ]
  }
 ],
 "metadata": {
  "interpreter": {
   "hash": "f9f85f796d01129d0dd105a088854619f454435301f6ffec2fea96ecbd9be4ac"
  },
  "kernelspec": {
   "display_name": "Python 3.9.5 64-bit",
   "language": "python",
   "name": "python3"
  },
  "language_info": {
   "codemirror_mode": {
    "name": "ipython",
    "version": 3
   },
   "file_extension": ".py",
   "mimetype": "text/x-python",
   "name": "python",
   "nbconvert_exporter": "python",
   "pygments_lexer": "ipython3",
   "version": "3.9.5"
  },
  "orig_nbformat": 4
 },
 "nbformat": 4,
 "nbformat_minor": 2
}
