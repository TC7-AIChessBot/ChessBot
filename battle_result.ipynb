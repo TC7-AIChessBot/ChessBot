{
 "cells": [
  {
   "cell_type": "code",
   "execution_count": 1,
   "metadata": {},
   "outputs": [],
   "source": [
    "import sys\n",
    "sys.path.insert(0, './algorithms/alpha_beta')\n",
    "sys.path.insert(0, './algorithms/dqn')\n",
    "sys.path.insert(0, './algorithms/stockfish')"
   ]
  },
  {
   "cell_type": "code",
   "execution_count": 2,
   "metadata": {},
   "outputs": [],
   "source": [
    "from algorithms.MyChessBoard import MyChessBoard\n",
    "from algorithms.alpha_beta.Alpha_Beta import find_move as alpha_beta_find_move\n",
    "from algorithms.dqn.dqn_bot import find_move as dqn_find_move\n",
    "from algorithms.dqn.dqn_sf_bot import find_move as dqn_vs_sf_find_move\n",
    "from algorithms.stockfish.stockfish_bot import find_move as stockfish_find_move"
   ]
  },
  {
   "cell_type": "code",
   "execution_count": 3,
   "metadata": {},
   "outputs": [
    {
     "name": "stderr",
     "output_type": "stream",
     "text": [
      "2021-12-16 17:35:20.062288: W tensorflow/stream_executor/platform/default/dso_loader.cc:64] Could not load dynamic library 'libcudart.so.11.0'; dlerror: libcudart.so.11.0: cannot open shared object file: No such file or directory\n",
      "2021-12-16 17:35:20.062335: I tensorflow/stream_executor/cuda/cudart_stub.cc:29] Ignore above cudart dlerror if you do not have a GPU set up on your machine.\n"
     ]
    }
   ],
   "source": [
    "import numpy as np\n",
    "from tensorflow.keras.models import Sequential\n",
    "from tensorflow.keras.layers import Dense, Activation, Flatten,\\\n",
    "     Input,BatchNormalization, Dropout"
   ]
  },
  {
   "cell_type": "code",
   "execution_count": 4,
   "metadata": {},
   "outputs": [],
   "source": [
    "STATE_SHAPE = (65, )\n",
    "NB_ACTIONS = 4096\n"
   ]
  },
  {
   "cell_type": "code",
   "execution_count": 5,
   "metadata": {},
   "outputs": [
    {
     "name": "stdout",
     "output_type": "stream",
     "text": [
      "WARNING:tensorflow:Please add `keras.layers.InputLayer` instead of `keras.Input` to Sequential model. `keras.Input` is intended to be used by Functional model.\n"
     ]
    },
    {
     "name": "stderr",
     "output_type": "stream",
     "text": [
      "2021-12-16 17:35:22.157580: W tensorflow/stream_executor/platform/default/dso_loader.cc:64] Could not load dynamic library 'libcuda.so.1'; dlerror: libcuda.so.1: cannot open shared object file: No such file or directory\n",
      "2021-12-16 17:35:22.157606: W tensorflow/stream_executor/cuda/cuda_driver.cc:326] failed call to cuInit: UNKNOWN ERROR (303)\n",
      "2021-12-16 17:35:22.157673: I tensorflow/stream_executor/cuda/cuda_diagnostics.cc:156] kernel driver does not appear to be running on this host (LoG): /proc/driver/nvidia/version does not exist\n",
      "2021-12-16 17:35:22.157915: I tensorflow/core/platform/cpu_feature_guard.cc:142] This TensorFlow binary is optimized with oneAPI Deep Neural Network Library (oneDNN) to use the following CPU instructions in performance-critical operations:  AVX2 FMA\n",
      "To enable them in other operations, rebuild TensorFlow with the appropriate compiler flags.\n"
     ]
    }
   ],
   "source": [
    "model_dqn = Sequential()\n",
    "model_dqn.add(Input((1, ) + STATE_SHAPE))\n",
    "model_dqn.add(Flatten())\n",
    "model_dqn.add(Dense(128, activation='relu'))\n",
    "model_dqn.add(Dropout(0.2))\n",
    "model_dqn.add(BatchNormalization())\n",
    "model_dqn.add(Dense(128, activation='relu'))\n",
    "model_dqn.add(Dropout(0.2))\n",
    "model_dqn.add(BatchNormalization())\n",
    "model_dqn.add(Dense(NB_ACTIONS))\n",
    "model_dqn.add(Activation('linear'))\n",
    "model_dqn.load_weights('chess_dqn_model.h5')\n"
   ]
  },
  {
   "cell_type": "code",
   "execution_count": 6,
   "metadata": {},
   "outputs": [
    {
     "name": "stdout",
     "output_type": "stream",
     "text": [
      "WARNING:tensorflow:Please add `keras.layers.InputLayer` instead of `keras.Input` to Sequential model. `keras.Input` is intended to be used by Functional model.\n"
     ]
    }
   ],
   "source": [
    "model_dqn_sf = Sequential()\n",
    "model_dqn_sf.add(Input((1, ) + STATE_SHAPE))\n",
    "model_dqn_sf.add(Flatten())\n",
    "model_dqn_sf.add(Dense(128, activation='relu'))\n",
    "model_dqn_sf.add(Dropout(0.2))\n",
    "model_dqn_sf.add(BatchNormalization())\n",
    "model_dqn_sf.add(Dense(128, activation='relu'))\n",
    "model_dqn_sf.add(Dropout(0.2))\n",
    "model_dqn_sf.add(BatchNormalization())\n",
    "model_dqn_sf.add(Dense(NB_ACTIONS))\n",
    "model_dqn_sf.add(Activation('linear'))\n",
    "model_dqn_sf.load_weights('chess_dqn_vs_sf_model.h5')"
   ]
  },
  {
   "cell_type": "code",
   "execution_count": 7,
   "metadata": {},
   "outputs": [],
   "source": [
    "board = MyChessBoard()"
   ]
  },
  {
   "cell_type": "code",
   "execution_count": 8,
   "metadata": {},
   "outputs": [
    {
     "data": {
      "text/plain": [
       "array([[ -40.,  -20.,  -30.,  -50., -900.,  -30.,  -20.,  -40.],\n",
       "       [ -10.,  -10.,  -10.,  -10.,  -10.,  -10.,  -10.,  -10.],\n",
       "       [   0.,    0.,    0.,    0.,    0.,    0.,    0.,    0.],\n",
       "       [   0.,    0.,    0.,    0.,    0.,    0.,    0.,    0.],\n",
       "       [   0.,    0.,    0.,    0.,    0.,    0.,    0.,    0.],\n",
       "       [   0.,    0.,    0.,    0.,    0.,    0.,    0.,    0.],\n",
       "       [  10.,   10.,   10.,   10.,   10.,   10.,   10.,   10.],\n",
       "       [  40.,   20.,   30.,   50.,  900.,   30.,   20.,   40.]])"
      ]
     },
     "execution_count": 8,
     "metadata": {},
     "output_type": "execute_result"
    }
   ],
   "source": [
    "board.convert_board_to_int()"
   ]
  },
  {
   "cell_type": "code",
   "execution_count": 9,
   "metadata": {},
   "outputs": [
    {
     "name": "stderr",
     "output_type": "stream",
     "text": [
      "2021-12-16 17:35:23.127915: I tensorflow/compiler/mlir/mlir_graph_optimization_pass.cc:176] None of the MLIR Optimization Passes are enabled (registered 2)\n",
      "2021-12-16 17:35:23.152426: I tensorflow/core/platform/profile_utils/cpu_utils.cc:114] CPU Frequency: 1999965000 Hz\n"
     ]
    },
    {
     "data": {
      "text/plain": [
       "array([-4108.706 , -3328.7566, -3545.724 , ..., -3909.216 , -3554.2666,\n",
       "       -4078.8809], dtype=float32)"
      ]
     },
     "execution_count": 9,
     "metadata": {},
     "output_type": "execute_result"
    }
   ],
   "source": [
    "state = board.get_state()\n",
    "model_dqn.predict(state.reshape((1, 1) + STATE_SHAPE)).reshape(-1, )"
   ]
  },
  {
   "cell_type": "code",
   "execution_count": 10,
   "metadata": {},
   "outputs": [
    {
     "data": {
      "text/plain": [
       "Move.from_uci('b1c3')"
      ]
     },
     "execution_count": 10,
     "metadata": {},
     "output_type": "execute_result"
    }
   ],
   "source": [
    "dqn_find_move(board, model_dqn)"
   ]
  },
  {
   "cell_type": "code",
   "execution_count": 11,
   "metadata": {},
   "outputs": [],
   "source": [
    "name = [\"Alpha_Beta\", \"DQN\", \"DQN_sf\", \"Stockfish\"]\n",
    "find = [alpha_beta_find_move, dqn_find_move, dqn_vs_sf_find_move, stockfish_find_move]\n",
    "\n",
    "result = np.zeros((4, 4))"
   ]
  },
  {
   "cell_type": "code",
   "execution_count": 11,
   "metadata": {},
   "outputs": [
    {
     "name": "stdout",
     "output_type": "stream",
     "text": [
      "0 vs 1 : 0\n"
     ]
    },
    {
     "ename": "KeyboardInterrupt",
     "evalue": "",
     "output_type": "error",
     "traceback": [
      "\u001b[1;31m---------------------------------------------------------------------------\u001b[0m",
      "\u001b[1;31mKeyboardInterrupt\u001b[0m                         Traceback (most recent call last)",
      "\u001b[1;32m<ipython-input-11-124383ba32e1>\u001b[0m in \u001b[0;36m<module>\u001b[1;34m\u001b[0m\n\u001b[0;32m     13\u001b[0m     \u001b[1;32mif\u001b[0m \u001b[0mi\u001b[0m \u001b[1;33m<\u001b[0m \u001b[0mnum_battle_with_com1\u001b[0m\u001b[1;33m/\u001b[0m\u001b[1;36m2\u001b[0m\u001b[1;33m:\u001b[0m\u001b[1;33m\u001b[0m\u001b[1;33m\u001b[0m\u001b[0m\n\u001b[0;32m     14\u001b[0m         \u001b[1;32mwhile\u001b[0m \u001b[1;32mnot\u001b[0m \u001b[0mdone\u001b[0m\u001b[1;33m:\u001b[0m\u001b[1;33m\u001b[0m\u001b[1;33m\u001b[0m\u001b[0m\n\u001b[1;32m---> 15\u001b[1;33m             \u001b[0mboard\u001b[0m\u001b[1;33m.\u001b[0m\u001b[0mpush\u001b[0m\u001b[1;33m(\u001b[0m\u001b[0mfind\u001b[0m\u001b[1;33m[\u001b[0m\u001b[0mcom1\u001b[0m\u001b[1;33m]\u001b[0m\u001b[1;33m(\u001b[0m\u001b[0mboard\u001b[0m\u001b[1;33m)\u001b[0m\u001b[1;33m)\u001b[0m\u001b[1;33m\u001b[0m\u001b[1;33m\u001b[0m\u001b[0m\n\u001b[0m\u001b[0;32m     16\u001b[0m             \u001b[1;32mif\u001b[0m \u001b[0mboard\u001b[0m\u001b[1;33m.\u001b[0m\u001b[0mis_checkmate\u001b[0m\u001b[1;33m(\u001b[0m\u001b[1;33m)\u001b[0m\u001b[1;33m:\u001b[0m\u001b[1;33m\u001b[0m\u001b[1;33m\u001b[0m\u001b[0m\n\u001b[0;32m     17\u001b[0m                 \u001b[0mresult\u001b[0m\u001b[1;33m[\u001b[0m\u001b[0mcom1\u001b[0m\u001b[1;33m,\u001b[0m \u001b[0mcom2\u001b[0m\u001b[1;33m]\u001b[0m \u001b[1;33m+=\u001b[0m \u001b[1;36m1\u001b[0m\u001b[1;33m\u001b[0m\u001b[1;33m\u001b[0m\u001b[0m\n",
      "\u001b[1;32mc:\\Users\\phana\\OneDrive\\Documents\\BÁCH KHOA\\AI\\ChessBot\\algorithms\\alpha_beta\\Alpha_Beta.py\u001b[0m in \u001b[0;36mfind_move\u001b[1;34m(board)\u001b[0m\n\u001b[0;32m     41\u001b[0m         \u001b[1;32mfor\u001b[0m \u001b[0mmove\u001b[0m \u001b[1;32min\u001b[0m \u001b[0mmoves\u001b[0m\u001b[1;33m:\u001b[0m\u001b[1;33m\u001b[0m\u001b[1;33m\u001b[0m\u001b[0m\n\u001b[0;32m     42\u001b[0m             \u001b[0mboard\u001b[0m\u001b[1;33m.\u001b[0m\u001b[0mpush\u001b[0m\u001b[1;33m(\u001b[0m\u001b[0mmove\u001b[0m\u001b[1;33m)\u001b[0m\u001b[1;33m\u001b[0m\u001b[1;33m\u001b[0m\u001b[0m\n\u001b[1;32m---> 43\u001b[1;33m             \u001b[0mmove_fit\u001b[0m \u001b[1;33m=\u001b[0m \u001b[0malpha_beta_pruning\u001b[0m\u001b[1;33m(\u001b[0m\u001b[0mboard\u001b[0m\u001b[1;33m,\u001b[0m \u001b[0mDEPTH\u001b[0m\u001b[1;33m-\u001b[0m\u001b[1;36m1\u001b[0m\u001b[1;33m,\u001b[0m \u001b[0mboard\u001b[0m\u001b[1;33m.\u001b[0m\u001b[0mturn\u001b[0m\u001b[1;33m(\u001b[0m\u001b[1;33m)\u001b[0m\u001b[1;33m,\u001b[0m \u001b[1;33m-\u001b[0m\u001b[1;36m99999\u001b[0m\u001b[1;33m,\u001b[0m \u001b[1;36m99999\u001b[0m\u001b[1;33m)\u001b[0m\u001b[1;33m\u001b[0m\u001b[1;33m\u001b[0m\u001b[0m\n\u001b[0m\u001b[0;32m     44\u001b[0m             \u001b[1;32mif\u001b[0m \u001b[0mmove_fit\u001b[0m\u001b[1;33m>\u001b[0m\u001b[0mmax_fit\u001b[0m\u001b[1;33m:\u001b[0m\u001b[1;33m\u001b[0m\u001b[1;33m\u001b[0m\u001b[0m\n\u001b[0;32m     45\u001b[0m                 \u001b[0mmax_fit\u001b[0m \u001b[1;33m=\u001b[0m \u001b[0mmove_fit\u001b[0m\u001b[1;33m\u001b[0m\u001b[1;33m\u001b[0m\u001b[0m\n",
      "\u001b[1;32mc:\\Users\\phana\\OneDrive\\Documents\\BÁCH KHOA\\AI\\ChessBot\\algorithms\\alpha_beta\\Alpha_Beta.py\u001b[0m in \u001b[0;36malpha_beta_pruning\u001b[1;34m(board, depth, color, alpha, beta)\u001b[0m\n\u001b[0;32m     25\u001b[0m             \u001b[0mboard\u001b[0m\u001b[1;33m.\u001b[0m\u001b[0mpush\u001b[0m\u001b[1;33m(\u001b[0m\u001b[0mmove\u001b[0m\u001b[1;33m)\u001b[0m\u001b[1;33m\u001b[0m\u001b[1;33m\u001b[0m\u001b[0m\n\u001b[0;32m     26\u001b[0m             \u001b[1;32mif\u001b[0m \u001b[0mdepth\u001b[0m\u001b[1;33m==\u001b[0m\u001b[1;36m1\u001b[0m\u001b[1;33m:\u001b[0m \u001b[0mfitness\u001b[0m \u001b[1;33m=\u001b[0m \u001b[0mboard\u001b[0m\u001b[1;33m.\u001b[0m\u001b[0mfit\u001b[0m\u001b[1;33m(\u001b[0m\u001b[1;33m)\u001b[0m\u001b[1;33m\u001b[0m\u001b[1;33m\u001b[0m\u001b[0m\n\u001b[1;32m---> 27\u001b[1;33m             \u001b[1;32melse\u001b[0m\u001b[1;33m:\u001b[0m        \u001b[0mfitness\u001b[0m \u001b[1;33m=\u001b[0m \u001b[0malpha_beta_pruning\u001b[0m\u001b[1;33m(\u001b[0m\u001b[0mboard\u001b[0m\u001b[1;33m,\u001b[0m \u001b[0mdepth\u001b[0m\u001b[1;33m-\u001b[0m\u001b[1;36m1\u001b[0m\u001b[1;33m,\u001b[0m \u001b[1;32mTrue\u001b[0m\u001b[1;33m,\u001b[0m \u001b[0malpha\u001b[0m\u001b[1;33m,\u001b[0m \u001b[0mbeta\u001b[0m\u001b[1;33m)\u001b[0m\u001b[1;33m\u001b[0m\u001b[1;33m\u001b[0m\u001b[0m\n\u001b[0m\u001b[0;32m     28\u001b[0m             \u001b[0mboard\u001b[0m\u001b[1;33m.\u001b[0m\u001b[0mpop\u001b[0m\u001b[1;33m(\u001b[0m\u001b[1;33m)\u001b[0m\u001b[1;33m\u001b[0m\u001b[1;33m\u001b[0m\u001b[0m\n\u001b[0;32m     29\u001b[0m             \u001b[1;32mif\u001b[0m \u001b[0mfitness\u001b[0m\u001b[1;33m<\u001b[0m\u001b[0malpha\u001b[0m\u001b[1;33m:\u001b[0m \u001b[1;32mreturn\u001b[0m \u001b[0mnew_alpha\u001b[0m\u001b[1;33m\u001b[0m\u001b[1;33m\u001b[0m\u001b[0m\n",
      "\u001b[1;32mc:\\Users\\phana\\OneDrive\\Documents\\BÁCH KHOA\\AI\\ChessBot\\algorithms\\alpha_beta\\Alpha_Beta.py\u001b[0m in \u001b[0;36malpha_beta_pruning\u001b[1;34m(board, depth, color, alpha, beta)\u001b[0m\n\u001b[0;32m     13\u001b[0m             \u001b[0mboard\u001b[0m\u001b[1;33m.\u001b[0m\u001b[0mpush\u001b[0m\u001b[1;33m(\u001b[0m\u001b[0mmove\u001b[0m\u001b[1;33m)\u001b[0m\u001b[1;33m\u001b[0m\u001b[1;33m\u001b[0m\u001b[0m\n\u001b[0;32m     14\u001b[0m             \u001b[1;32mif\u001b[0m \u001b[0mdepth\u001b[0m\u001b[1;33m==\u001b[0m\u001b[1;36m1\u001b[0m\u001b[1;33m:\u001b[0m \u001b[0mfitness\u001b[0m \u001b[1;33m=\u001b[0m \u001b[0mboard\u001b[0m\u001b[1;33m.\u001b[0m\u001b[0mfit\u001b[0m\u001b[1;33m(\u001b[0m\u001b[1;33m)\u001b[0m\u001b[1;33m\u001b[0m\u001b[1;33m\u001b[0m\u001b[0m\n\u001b[1;32m---> 15\u001b[1;33m             \u001b[1;32melse\u001b[0m\u001b[1;33m:\u001b[0m        \u001b[0mfitness\u001b[0m \u001b[1;33m=\u001b[0m \u001b[0malpha_beta_pruning\u001b[0m\u001b[1;33m(\u001b[0m\u001b[0mboard\u001b[0m\u001b[1;33m,\u001b[0m \u001b[0mdepth\u001b[0m\u001b[1;33m-\u001b[0m\u001b[1;36m1\u001b[0m\u001b[1;33m,\u001b[0m \u001b[1;32mFalse\u001b[0m\u001b[1;33m,\u001b[0m \u001b[0malpha\u001b[0m\u001b[1;33m,\u001b[0m \u001b[0mbeta\u001b[0m\u001b[1;33m)\u001b[0m\u001b[1;33m\u001b[0m\u001b[1;33m\u001b[0m\u001b[0m\n\u001b[0m\u001b[0;32m     16\u001b[0m             \u001b[0mboard\u001b[0m\u001b[1;33m.\u001b[0m\u001b[0mpop\u001b[0m\u001b[1;33m(\u001b[0m\u001b[1;33m)\u001b[0m\u001b[1;33m\u001b[0m\u001b[1;33m\u001b[0m\u001b[0m\n\u001b[0;32m     17\u001b[0m             \u001b[1;32mif\u001b[0m \u001b[0mfitness\u001b[0m\u001b[1;33m>\u001b[0m\u001b[0mbeta\u001b[0m\u001b[1;33m:\u001b[0m \u001b[1;32mreturn\u001b[0m \u001b[0mnew_beta\u001b[0m\u001b[1;33m\u001b[0m\u001b[1;33m\u001b[0m\u001b[0m\n",
      "\u001b[1;32mc:\\Users\\phana\\OneDrive\\Documents\\BÁCH KHOA\\AI\\ChessBot\\algorithms\\alpha_beta\\Alpha_Beta.py\u001b[0m in \u001b[0;36malpha_beta_pruning\u001b[1;34m(board, depth, color, alpha, beta)\u001b[0m\n\u001b[0;32m     25\u001b[0m             \u001b[0mboard\u001b[0m\u001b[1;33m.\u001b[0m\u001b[0mpush\u001b[0m\u001b[1;33m(\u001b[0m\u001b[0mmove\u001b[0m\u001b[1;33m)\u001b[0m\u001b[1;33m\u001b[0m\u001b[1;33m\u001b[0m\u001b[0m\n\u001b[0;32m     26\u001b[0m             \u001b[1;32mif\u001b[0m \u001b[0mdepth\u001b[0m\u001b[1;33m==\u001b[0m\u001b[1;36m1\u001b[0m\u001b[1;33m:\u001b[0m \u001b[0mfitness\u001b[0m \u001b[1;33m=\u001b[0m \u001b[0mboard\u001b[0m\u001b[1;33m.\u001b[0m\u001b[0mfit\u001b[0m\u001b[1;33m(\u001b[0m\u001b[1;33m)\u001b[0m\u001b[1;33m\u001b[0m\u001b[1;33m\u001b[0m\u001b[0m\n\u001b[1;32m---> 27\u001b[1;33m             \u001b[1;32melse\u001b[0m\u001b[1;33m:\u001b[0m        \u001b[0mfitness\u001b[0m \u001b[1;33m=\u001b[0m \u001b[0malpha_beta_pruning\u001b[0m\u001b[1;33m(\u001b[0m\u001b[0mboard\u001b[0m\u001b[1;33m,\u001b[0m \u001b[0mdepth\u001b[0m\u001b[1;33m-\u001b[0m\u001b[1;36m1\u001b[0m\u001b[1;33m,\u001b[0m \u001b[1;32mTrue\u001b[0m\u001b[1;33m,\u001b[0m \u001b[0malpha\u001b[0m\u001b[1;33m,\u001b[0m \u001b[0mbeta\u001b[0m\u001b[1;33m)\u001b[0m\u001b[1;33m\u001b[0m\u001b[1;33m\u001b[0m\u001b[0m\n\u001b[0m\u001b[0;32m     28\u001b[0m             \u001b[0mboard\u001b[0m\u001b[1;33m.\u001b[0m\u001b[0mpop\u001b[0m\u001b[1;33m(\u001b[0m\u001b[1;33m)\u001b[0m\u001b[1;33m\u001b[0m\u001b[1;33m\u001b[0m\u001b[0m\n\u001b[0;32m     29\u001b[0m             \u001b[1;32mif\u001b[0m \u001b[0mfitness\u001b[0m\u001b[1;33m<\u001b[0m\u001b[0malpha\u001b[0m\u001b[1;33m:\u001b[0m \u001b[1;32mreturn\u001b[0m \u001b[0mnew_alpha\u001b[0m\u001b[1;33m\u001b[0m\u001b[1;33m\u001b[0m\u001b[0m\n",
      "\u001b[1;32mc:\\Users\\phana\\OneDrive\\Documents\\BÁCH KHOA\\AI\\ChessBot\\algorithms\\alpha_beta\\Alpha_Beta.py\u001b[0m in \u001b[0;36malpha_beta_pruning\u001b[1;34m(board, depth, color, alpha, beta)\u001b[0m\n\u001b[0;32m     13\u001b[0m             \u001b[0mboard\u001b[0m\u001b[1;33m.\u001b[0m\u001b[0mpush\u001b[0m\u001b[1;33m(\u001b[0m\u001b[0mmove\u001b[0m\u001b[1;33m)\u001b[0m\u001b[1;33m\u001b[0m\u001b[1;33m\u001b[0m\u001b[0m\n\u001b[0;32m     14\u001b[0m             \u001b[1;32mif\u001b[0m \u001b[0mdepth\u001b[0m\u001b[1;33m==\u001b[0m\u001b[1;36m1\u001b[0m\u001b[1;33m:\u001b[0m \u001b[0mfitness\u001b[0m \u001b[1;33m=\u001b[0m \u001b[0mboard\u001b[0m\u001b[1;33m.\u001b[0m\u001b[0mfit\u001b[0m\u001b[1;33m(\u001b[0m\u001b[1;33m)\u001b[0m\u001b[1;33m\u001b[0m\u001b[1;33m\u001b[0m\u001b[0m\n\u001b[1;32m---> 15\u001b[1;33m             \u001b[1;32melse\u001b[0m\u001b[1;33m:\u001b[0m        \u001b[0mfitness\u001b[0m \u001b[1;33m=\u001b[0m \u001b[0malpha_beta_pruning\u001b[0m\u001b[1;33m(\u001b[0m\u001b[0mboard\u001b[0m\u001b[1;33m,\u001b[0m \u001b[0mdepth\u001b[0m\u001b[1;33m-\u001b[0m\u001b[1;36m1\u001b[0m\u001b[1;33m,\u001b[0m \u001b[1;32mFalse\u001b[0m\u001b[1;33m,\u001b[0m \u001b[0malpha\u001b[0m\u001b[1;33m,\u001b[0m \u001b[0mbeta\u001b[0m\u001b[1;33m)\u001b[0m\u001b[1;33m\u001b[0m\u001b[1;33m\u001b[0m\u001b[0m\n\u001b[0m\u001b[0;32m     16\u001b[0m             \u001b[0mboard\u001b[0m\u001b[1;33m.\u001b[0m\u001b[0mpop\u001b[0m\u001b[1;33m(\u001b[0m\u001b[1;33m)\u001b[0m\u001b[1;33m\u001b[0m\u001b[1;33m\u001b[0m\u001b[0m\n\u001b[0;32m     17\u001b[0m             \u001b[1;32mif\u001b[0m \u001b[0mfitness\u001b[0m\u001b[1;33m>\u001b[0m\u001b[0mbeta\u001b[0m\u001b[1;33m:\u001b[0m \u001b[1;32mreturn\u001b[0m \u001b[0mnew_beta\u001b[0m\u001b[1;33m\u001b[0m\u001b[1;33m\u001b[0m\u001b[0m\n",
      "\u001b[1;32mc:\\Users\\phana\\OneDrive\\Documents\\BÁCH KHOA\\AI\\ChessBot\\algorithms\\alpha_beta\\Alpha_Beta.py\u001b[0m in \u001b[0;36malpha_beta_pruning\u001b[1;34m(board, depth, color, alpha, beta)\u001b[0m\n\u001b[0;32m     24\u001b[0m         \u001b[1;32mfor\u001b[0m \u001b[0mmove\u001b[0m \u001b[1;32min\u001b[0m \u001b[0mmoves\u001b[0m\u001b[1;33m:\u001b[0m\u001b[1;33m\u001b[0m\u001b[1;33m\u001b[0m\u001b[0m\n\u001b[0;32m     25\u001b[0m             \u001b[0mboard\u001b[0m\u001b[1;33m.\u001b[0m\u001b[0mpush\u001b[0m\u001b[1;33m(\u001b[0m\u001b[0mmove\u001b[0m\u001b[1;33m)\u001b[0m\u001b[1;33m\u001b[0m\u001b[1;33m\u001b[0m\u001b[0m\n\u001b[1;32m---> 26\u001b[1;33m             \u001b[1;32mif\u001b[0m \u001b[0mdepth\u001b[0m\u001b[1;33m==\u001b[0m\u001b[1;36m1\u001b[0m\u001b[1;33m:\u001b[0m \u001b[0mfitness\u001b[0m \u001b[1;33m=\u001b[0m \u001b[0mboard\u001b[0m\u001b[1;33m.\u001b[0m\u001b[0mfit\u001b[0m\u001b[1;33m(\u001b[0m\u001b[1;33m)\u001b[0m\u001b[1;33m\u001b[0m\u001b[1;33m\u001b[0m\u001b[0m\n\u001b[0m\u001b[0;32m     27\u001b[0m             \u001b[1;32melse\u001b[0m\u001b[1;33m:\u001b[0m        \u001b[0mfitness\u001b[0m \u001b[1;33m=\u001b[0m \u001b[0malpha_beta_pruning\u001b[0m\u001b[1;33m(\u001b[0m\u001b[0mboard\u001b[0m\u001b[1;33m,\u001b[0m \u001b[0mdepth\u001b[0m\u001b[1;33m-\u001b[0m\u001b[1;36m1\u001b[0m\u001b[1;33m,\u001b[0m \u001b[1;32mTrue\u001b[0m\u001b[1;33m,\u001b[0m \u001b[0malpha\u001b[0m\u001b[1;33m,\u001b[0m \u001b[0mbeta\u001b[0m\u001b[1;33m)\u001b[0m\u001b[1;33m\u001b[0m\u001b[1;33m\u001b[0m\u001b[0m\n\u001b[0;32m     28\u001b[0m             \u001b[0mboard\u001b[0m\u001b[1;33m.\u001b[0m\u001b[0mpop\u001b[0m\u001b[1;33m(\u001b[0m\u001b[1;33m)\u001b[0m\u001b[1;33m\u001b[0m\u001b[1;33m\u001b[0m\u001b[0m\n",
      "\u001b[1;32mc:\\Users\\phana\\OneDrive\\Documents\\BÁCH KHOA\\AI\\ChessBot\\algorithms\\MyChessBoard.py\u001b[0m in \u001b[0;36mfit\u001b[1;34m(self)\u001b[0m\n\u001b[0;32m     46\u001b[0m             \u001b[1;32melse\u001b[0m\u001b[1;33m:\u001b[0m \u001b[1;32mreturn\u001b[0m \u001b[1;36m9999\u001b[0m\u001b[1;33m\u001b[0m\u001b[1;33m\u001b[0m\u001b[0m\n\u001b[0;32m     47\u001b[0m \u001b[1;33m\u001b[0m\u001b[0m\n\u001b[1;32m---> 48\u001b[1;33m         \u001b[0mfen\u001b[0m \u001b[1;33m=\u001b[0m \u001b[0mself\u001b[0m\u001b[1;33m.\u001b[0m\u001b[0mboard\u001b[0m\u001b[1;33m.\u001b[0m\u001b[0mboard_fen\u001b[0m\u001b[1;33m(\u001b[0m\u001b[1;33m)\u001b[0m\u001b[1;33m\u001b[0m\u001b[1;33m\u001b[0m\u001b[0m\n\u001b[0m\u001b[0;32m     49\u001b[0m \u001b[1;33m\u001b[0m\u001b[0m\n\u001b[0;32m     50\u001b[0m         \u001b[0mfen\u001b[0m \u001b[1;33m=\u001b[0m \u001b[0mfen\u001b[0m\u001b[1;33m.\u001b[0m\u001b[0mreplace\u001b[0m\u001b[1;33m(\u001b[0m\u001b[1;34m'2'\u001b[0m\u001b[1;33m,\u001b[0m\u001b[1;34m'11'\u001b[0m\u001b[1;33m)\u001b[0m\u001b[1;33m\u001b[0m\u001b[1;33m\u001b[0m\u001b[0m\n",
      "\u001b[1;32m~\\AppData\\Local\\Programs\\Python\\Python39\\lib\\site-packages\\chess\\__init__.py\u001b[0m in \u001b[0;36mboard_fen\u001b[1;34m(self, promoted)\u001b[0m\n\u001b[0;32m    938\u001b[0m                     \u001b[0mbuilder\u001b[0m\u001b[1;33m.\u001b[0m\u001b[0mappend\u001b[0m\u001b[1;33m(\u001b[0m\u001b[0mstr\u001b[0m\u001b[1;33m(\u001b[0m\u001b[0mempty\u001b[0m\u001b[1;33m)\u001b[0m\u001b[1;33m)\u001b[0m\u001b[1;33m\u001b[0m\u001b[1;33m\u001b[0m\u001b[0m\n\u001b[0;32m    939\u001b[0m                     \u001b[0mempty\u001b[0m \u001b[1;33m=\u001b[0m \u001b[1;36m0\u001b[0m\u001b[1;33m\u001b[0m\u001b[1;33m\u001b[0m\u001b[0m\n\u001b[1;32m--> 940\u001b[1;33m                 \u001b[0mbuilder\u001b[0m\u001b[1;33m.\u001b[0m\u001b[0mappend\u001b[0m\u001b[1;33m(\u001b[0m\u001b[0mpiece\u001b[0m\u001b[1;33m.\u001b[0m\u001b[0msymbol\u001b[0m\u001b[1;33m(\u001b[0m\u001b[1;33m)\u001b[0m\u001b[1;33m)\u001b[0m\u001b[1;33m\u001b[0m\u001b[1;33m\u001b[0m\u001b[0m\n\u001b[0m\u001b[0;32m    941\u001b[0m                 \u001b[1;32mif\u001b[0m \u001b[0mpromoted\u001b[0m \u001b[1;32mand\u001b[0m \u001b[0mBB_SQUARES\u001b[0m\u001b[1;33m[\u001b[0m\u001b[0msquare\u001b[0m\u001b[1;33m]\u001b[0m \u001b[1;33m&\u001b[0m \u001b[0mself\u001b[0m\u001b[1;33m.\u001b[0m\u001b[0mpromoted\u001b[0m\u001b[1;33m:\u001b[0m\u001b[1;33m\u001b[0m\u001b[1;33m\u001b[0m\u001b[0m\n\u001b[0;32m    942\u001b[0m                     \u001b[0mbuilder\u001b[0m\u001b[1;33m.\u001b[0m\u001b[0mappend\u001b[0m\u001b[1;33m(\u001b[0m\u001b[1;34m\"~\"\u001b[0m\u001b[1;33m)\u001b[0m\u001b[1;33m\u001b[0m\u001b[1;33m\u001b[0m\u001b[0m\n",
      "\u001b[1;32m~\\AppData\\Local\\Programs\\Python\\Python39\\lib\\site-packages\\chess\\__init__.py\u001b[0m in \u001b[0;36msymbol\u001b[1;34m(self)\u001b[0m\n\u001b[0;32m    464\u001b[0m         \"\"\"\n\u001b[0;32m    465\u001b[0m         \u001b[0msymbol\u001b[0m \u001b[1;33m=\u001b[0m \u001b[0mpiece_symbol\u001b[0m\u001b[1;33m(\u001b[0m\u001b[0mself\u001b[0m\u001b[1;33m.\u001b[0m\u001b[0mpiece_type\u001b[0m\u001b[1;33m)\u001b[0m\u001b[1;33m\u001b[0m\u001b[1;33m\u001b[0m\u001b[0m\n\u001b[1;32m--> 466\u001b[1;33m         \u001b[1;32mreturn\u001b[0m \u001b[0msymbol\u001b[0m\u001b[1;33m.\u001b[0m\u001b[0mupper\u001b[0m\u001b[1;33m(\u001b[0m\u001b[1;33m)\u001b[0m \u001b[1;32mif\u001b[0m \u001b[0mself\u001b[0m\u001b[1;33m.\u001b[0m\u001b[0mcolor\u001b[0m \u001b[1;32melse\u001b[0m \u001b[0msymbol\u001b[0m\u001b[1;33m\u001b[0m\u001b[1;33m\u001b[0m\u001b[0m\n\u001b[0m\u001b[0;32m    467\u001b[0m \u001b[1;33m\u001b[0m\u001b[0m\n\u001b[0;32m    468\u001b[0m     \u001b[1;32mdef\u001b[0m \u001b[0municode_symbol\u001b[0m\u001b[1;33m(\u001b[0m\u001b[0mself\u001b[0m\u001b[1;33m,\u001b[0m \u001b[1;33m*\u001b[0m\u001b[1;33m,\u001b[0m \u001b[0minvert_color\u001b[0m\u001b[1;33m:\u001b[0m \u001b[0mbool\u001b[0m \u001b[1;33m=\u001b[0m \u001b[1;32mFalse\u001b[0m\u001b[1;33m)\u001b[0m \u001b[1;33m->\u001b[0m \u001b[0mstr\u001b[0m\u001b[1;33m:\u001b[0m\u001b[1;33m\u001b[0m\u001b[1;33m\u001b[0m\u001b[0m\n",
      "\u001b[1;31mKeyboardInterrupt\u001b[0m: "
     ]
    }
   ],
   "source": [
    "num_battle_with_com1 = 50\n",
    "com1 = 0\n",
    "\n",
    "com2 = 1\n",
    "for i in range (num_battle_with_com1):\n",
    "    print(com1, \"vs\", com2, \":\", i)\n",
    "    board = MyChessBoard()\n",
    "    done = False\n",
    "    if i < num_battle_with_com1/2:\n",
    "        while not done:\n",
    "            board.push(find[com1](board))\n",
    "            if board.is_checkmate(): \n",
    "                result[com1, com2] += 1\n",
    "                done = True\n",
    "            if board.is_draw(): \n",
    "                done = True\n",
    "            board.push(find[com2](board, model_dqn))\n",
    "            if board.is_checkmate(): \n",
    "                result[com2, com1] += 1\n",
    "                done = True\n",
    "            if board.is_draw(): \n",
    "                done = True\n",
    "    else:\n",
    "        while not done:\n",
    "            board.push(find[com2](board, model_dqn))\n",
    "            if board.is_checkmate(): \n",
    "                result[com2, com1] += 1\n",
    "                done = True\n",
    "            if board.is_draw(): \n",
    "                done = True\n",
    "            board.push(find[com1](board))\n",
    "            if board.is_checkmate(): \n",
    "                result[com1, com2] += 1\n",
    "                done = True\n",
    "            if board.is_draw(): \n",
    "                done = True\n",
    "            \n",
    "com2 = 2\n",
    "for i in range (num_battle_with_com1):\n",
    "    print(com1, \"vs\", com2, \":\", i)\n",
    "    board = MyChessBoard()\n",
    "    done = False\n",
    "    if i < num_battle_with_com1/2:\n",
    "        while not done:\n",
    "            board.push(find[com1](board))\n",
    "            if board.is_checkmate(): \n",
    "                result[com1, com2] += 1\n",
    "                done = True\n",
    "            if board.is_draw(): \n",
    "                done = True\n",
    "            board.push(find[com2](board, model_dqn_sf))\n",
    "            if board.is_checkmate(): \n",
    "                result[com2, com1] += 1\n",
    "                done = True\n",
    "            if board.is_draw(): \n",
    "                done = True\n",
    "    else:\n",
    "        while not done:\n",
    "            board.push(find[com2](board, model_dqn_sf))\n",
    "            if board.is_checkmate(): \n",
    "                result[com2, com1] += 1\n",
    "                done = True\n",
    "            if board.is_draw(): \n",
    "                done = True\n",
    "            board.push(find[com1](board))\n",
    "            if board.is_checkmate(): \n",
    "                result[com1, com2] += 1\n",
    "                done = True\n",
    "            if board.is_draw(): \n",
    "                done = True\n",
    "\n",
    "com2 = 3\n",
    "for i in range (num_battle_with_com1):\n",
    "    print(com1, \"vs\", com2, \":\", i)\n",
    "    board = MyChessBoard()\n",
    "    done = False\n",
    "    if i < num_battle_with_com1/2:\n",
    "        while not done:\n",
    "            board.push(find[com1](board))\n",
    "            if board.is_checkmate(): \n",
    "                result[com1, com2] += 1\n",
    "                done = True\n",
    "            if board.is_draw(): \n",
    "                done = True\n",
    "            board.push(find[com2](board))\n",
    "            if board.is_checkmate(): \n",
    "                result[com2, com1] += 1\n",
    "                done = True\n",
    "            if board.is_draw(): \n",
    "                done = True\n",
    "    else:\n",
    "        while not done:\n",
    "            board.push(find[com2](board))\n",
    "            if board.is_checkmate(): \n",
    "                result[com2, com1] += 1\n",
    "                done = True\n",
    "            if board.is_draw(): \n",
    "                done = True\n",
    "            board.push(find[com1](board))\n",
    "            if board.is_checkmate(): \n",
    "                result[com1, com2] += 1\n",
    "                done = True\n",
    "            if board.is_draw(): \n",
    "                done = True\n",
    "\n"
   ]
  },
  {
   "cell_type": "code",
   "execution_count": null,
   "metadata": {},
   "outputs": [],
   "source": [
    "com1 = 1\n",
    "num_battle_with_com1 = 100\n",
    "\n",
    "com2 = 2\n",
    "for i in range (num_battle_with_com1):\n",
    "    print(com1, \"vs\", com2, \":\", i)\n",
    "    board = MyChessBoard()\n",
    "    done = False\n",
    "    if i < num_battle_with_com1/2:\n",
    "        while not done:\n",
    "            board.push(find[com1](board))\n",
    "            if board.is_checkmate(): \n",
    "                result[com1, com2] += 1\n",
    "                done = True\n",
    "            if board.is_draw(): \n",
    "                done = True\n",
    "            board.push(find[com2](board, model_dqn_sf))\n",
    "            if board.is_checkmate(): \n",
    "                result[com2, com1] += 1\n",
    "                done = True\n",
    "            if board.is_draw(): \n",
    "                done = True\n",
    "    else:\n",
    "        while not done:\n",
    "            board.push(find[com2](board, model_dqn_sf))\n",
    "            if board.is_checkmate(): \n",
    "                result[com2, com1] += 1\n",
    "                done = True\n",
    "            if board.is_draw(): \n",
    "                done = True\n",
    "            board.push(find[com1](board))\n",
    "            if board.is_checkmate(): \n",
    "                result[com1, com2] += 1\n",
    "                done = True\n",
    "            if board.is_draw(): \n",
    "                done = True\n",
    "\n",
    "com2 = 3\n",
    "for i in range (num_battle_with_com1):\n",
    "    print(com1, \"vs\", com2, \":\", i)\n",
    "    board = MyChessBoard()\n",
    "    done = False\n",
    "    if i < num_battle_with_com1/2:\n",
    "        while not done:\n",
    "            board.push(find[com1](board))\n",
    "            if board.is_checkmate(): \n",
    "                result[com1, com2] += 1\n",
    "                done = True\n",
    "            if board.is_draw(): \n",
    "                done = True\n",
    "            board.push(find[com2](board))\n",
    "            if board.is_checkmate(): \n",
    "                result[com2, com1] += 1\n",
    "                done = True\n",
    "            if board.is_draw(): \n",
    "                done = True\n",
    "    else:\n",
    "        while not done:\n",
    "            board.push(find[com2](board))\n",
    "            if board.is_checkmate(): \n",
    "                result[com2, com1] += 1\n",
    "                done = True\n",
    "            if board.is_draw(): \n",
    "                done = True\n",
    "            board.push(find[com1](board))\n",
    "            if board.is_checkmate(): \n",
    "                result[com1, com2] += 1\n",
    "                done = True\n",
    "            if board.is_draw(): \n",
    "                done = True"
   ]
  },
  {
   "cell_type": "code",
   "execution_count": null,
   "metadata": {},
   "outputs": [],
   "source": [
    "com1 = 2\n",
    "num_battle_with_com1 = 100\n",
    "\n",
    "com2 = 3\n",
    "for i in range (num_battle_with_com1):\n",
    "    print(com1, \"vs\", com2, \":\", i)\n",
    "    board = MyChessBoard()\n",
    "    done = False\n",
    "    if i < num_battle_with_com1/2:\n",
    "        while not done:\n",
    "            board.push(find[com1](board))\n",
    "            if board.is_checkmate(): \n",
    "                result[com1, com2] += 1\n",
    "                done = True\n",
    "            if board.is_draw(): \n",
    "                done = True\n",
    "            board.push(find[com2](board))\n",
    "            if board.is_checkmate(): \n",
    "                result[com2, com1] += 1\n",
    "                done = True\n",
    "            if board.is_draw(): \n",
    "                done = True\n",
    "    else:\n",
    "        while not done:\n",
    "            board.push(find[com2](board))\n",
    "            if board.is_checkmate(): \n",
    "                result[com2, com1] += 1\n",
    "                done = True\n",
    "            if board.is_draw(): \n",
    "                done = True\n",
    "            board.push(find[com1](board))\n",
    "            if board.is_checkmate(): \n",
    "                result[com1, com2] += 1\n",
    "                done = True\n",
    "            if board.is_draw(): \n",
    "                done = True"
   ]
  },
  {
   "cell_type": "code",
   "execution_count": null,
   "metadata": {},
   "outputs": [],
   "source": [
    "result"
   ]
  }
 ],
 "metadata": {
  "interpreter": {
   "hash": "f9f85f796d01129d0dd105a088854619f454435301f6ffec2fea96ecbd9be4ac"
  },
  "kernelspec": {
   "display_name": "Python 3.9.5 64-bit",
   "language": "python",
   "name": "python3"
  },
  "language_info": {
   "codemirror_mode": {
    "name": "ipython",
    "version": 3
   },
   "file_extension": ".py",
   "mimetype": "text/x-python",
   "name": "python",
   "nbconvert_exporter": "python",
   "pygments_lexer": "ipython3",
   "version": "3.9.5"
  },
  "orig_nbformat": 4
 },
 "nbformat": 4,
 "nbformat_minor": 2
}
