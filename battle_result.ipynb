{
 "cells": [
  {
   "cell_type": "code",
   "execution_count": 1,
   "metadata": {},
   "outputs": [],
   "source": [
    "import sys\n",
    "sys.path.insert(0, './algorithms/alpha_beta')\n",
    "sys.path.insert(0, './algorithms/dqn')\n",
    "sys.path.insert(0, './algorithms/stockfish')\n",
    "import numpy as np"
   ]
  },
  {
   "cell_type": "code",
   "execution_count": 2,
   "metadata": {},
   "outputs": [
    {
     "name": "stderr",
     "output_type": "stream",
     "text": [
      "2022-01-18 07:08:56.896195: W tensorflow/stream_executor/platform/default/dso_loader.cc:64] Could not load dynamic library 'libcudart.so.11.0'; dlerror: libcudart.so.11.0: cannot open shared object file: No such file or directory\n",
      "2022-01-18 07:08:56.896270: I tensorflow/stream_executor/cuda/cudart_stub.cc:29] Ignore above cudart dlerror if you do not have a GPU set up on your machine.\n"
     ]
    }
   ],
   "source": [
    "from algorithms.MyChessBoard import MyChessBoard\n",
    "\n",
    "from algorithms.alpha_beta.Alpha_Beta import find_move as alpha_beta_find_move\n",
    "\n",
    "from algorithms.dqn.dqn_65.bot_65 import find_move as dqn_65_find_move\n",
    "from algorithms.dqn.dqn_65.model65 import get_model65\n",
    "\n",
    "from algorithms.dqn.dqn_888.bot_888 import find_move as dqn_888_find_move\n",
    "from algorithms.dqn.dqn_888.model888 import get_model888\n",
    "\n",
    "from algorithms.stockfish.stockfish_bot import find_move as stockfish_find_move\n"
   ]
  },
  {
   "cell_type": "code",
   "execution_count": 3,
   "metadata": {},
   "outputs": [],
   "source": [
    "board = MyChessBoard()"
   ]
  },
  {
   "cell_type": "code",
   "execution_count": 4,
   "metadata": {},
   "outputs": [
    {
     "data": {
      "text/plain": [
       "20"
      ]
     },
     "execution_count": 4,
     "metadata": {},
     "output_type": "execute_result"
    }
   ],
   "source": [
    "len(list(board.legal_moves()))"
   ]
  },
  {
   "cell_type": "code",
   "execution_count": 5,
   "metadata": {},
   "outputs": [
    {
     "name": "stdout",
     "output_type": "stream",
     "text": [
      "WARNING:tensorflow:Please add `keras.layers.InputLayer` instead of `keras.Input` to Sequential model. `keras.Input` is intended to be used by Functional model.\n"
     ]
    },
    {
     "name": "stderr",
     "output_type": "stream",
     "text": [
      "2022-01-18 07:09:01.712673: W tensorflow/stream_executor/platform/default/dso_loader.cc:64] Could not load dynamic library 'libcuda.so.1'; dlerror: libcuda.so.1: cannot open shared object file: No such file or directory\n",
      "2022-01-18 07:09:01.712751: W tensorflow/stream_executor/cuda/cuda_driver.cc:326] failed call to cuInit: UNKNOWN ERROR (303)\n",
      "2022-01-18 07:09:01.712789: I tensorflow/stream_executor/cuda/cuda_diagnostics.cc:156] kernel driver does not appear to be running on this host (LoG): /proc/driver/nvidia/version does not exist\n",
      "2022-01-18 07:09:01.713661: I tensorflow/core/platform/cpu_feature_guard.cc:142] This TensorFlow binary is optimized with oneAPI Deep Neural Network Library (oneDNN) to use the following CPU instructions in performance-critical operations:  AVX2 FMA\n",
      "To enable them in other operations, rebuild TensorFlow with the appropriate compiler flags.\n",
      "2022-01-18 07:09:03.159927: W tensorflow/core/framework/cpu_allocator_impl.cc:80] Allocation of 16384000 exceeds 10% of free system memory.\n",
      "2022-01-18 07:09:03.169074: W tensorflow/core/framework/cpu_allocator_impl.cc:80] Allocation of 16384000 exceeds 10% of free system memory.\n",
      "2022-01-18 07:09:03.172756: W tensorflow/core/framework/cpu_allocator_impl.cc:80] Allocation of 16384000 exceeds 10% of free system memory.\n"
     ]
    }
   ],
   "source": [
    "model65 = get_model65(STATE_SHAPE= (65, ), NB_ACTIONS= 4096)\n",
    "model888 = get_model888(STATE_SHAPE= (8, 8, 8), NB_ACTIONS= 4096)\n"
   ]
  },
  {
   "cell_type": "code",
   "execution_count": 6,
   "metadata": {},
   "outputs": [
    {
     "data": {
      "text/plain": [
       "array([[ -40.,  -20.,  -30.,  -50., -900.,  -30.,  -20.,  -40.],\n",
       "       [ -10.,  -10.,  -10.,  -10.,  -10.,  -10.,  -10.,  -10.],\n",
       "       [   0.,    0.,    0.,    0.,    0.,    0.,    0.,    0.],\n",
       "       [   0.,    0.,    0.,    0.,    0.,    0.,    0.,    0.],\n",
       "       [   0.,    0.,    0.,    0.,    0.,    0.,    0.,    0.],\n",
       "       [   0.,    0.,    0.,    0.,    0.,    0.,    0.,    0.],\n",
       "       [  10.,   10.,   10.,   10.,   10.,   10.,   10.,   10.],\n",
       "       [  40.,   20.,   30.,   50.,  900.,   30.,   20.,   40.]])"
      ]
     },
     "execution_count": 6,
     "metadata": {},
     "output_type": "execute_result"
    }
   ],
   "source": [
    "board.convert_board_to_int()"
   ]
  },
  {
   "cell_type": "code",
   "execution_count": 7,
   "metadata": {},
   "outputs": [
    {
     "name": "stderr",
     "output_type": "stream",
     "text": [
      "2022-01-18 07:09:03.797390: I tensorflow/compiler/mlir/mlir_graph_optimization_pass.cc:176] None of the MLIR Optimization Passes are enabled (registered 2)\n",
      "2022-01-18 07:09:03.801205: I tensorflow/core/platform/profile_utils/cpu_utils.cc:114] CPU Frequency: 1999965000 Hz\n"
     ]
    },
    {
     "data": {
      "text/plain": [
       "Move.from_uci('g1h3')"
      ]
     },
     "execution_count": 7,
     "metadata": {},
     "output_type": "execute_result"
    }
   ],
   "source": [
    "state = board.get_state()\n",
    "dqn_65_find_move(board, model65)"
   ]
  },
  {
   "cell_type": "code",
   "execution_count": 8,
   "metadata": {},
   "outputs": [],
   "source": [
    "name = [\"Alpha_Beta\", \"DQN 65\", \"dqn 888\", \"Stockfish\"]\n",
    "find = [alpha_beta_find_move, dqn_65_find_move, dqn_888_find_move, stockfish_find_move]\n",
    "\n",
    "result = np.zeros((4, 4))\n",
    "mean_step = np.zeros((4, 4))"
   ]
  },
  {
   "cell_type": "code",
   "execution_count": 9,
   "metadata": {},
   "outputs": [
    {
     "name": "stdout",
     "output_type": "stream",
     "text": [
      "0 vs 2 : 0\n",
      "Số quân: <bound method MyChessBoard.count_pieces of <algorithms.MyChessBoard.MyChessBoard object at 0x7f3e2c1cebb0>>, độ sâu: 3\n",
      "Số quân: <bound method MyChessBoard.count_pieces of <algorithms.MyChessBoard.MyChessBoard object at 0x7f3e2c1cebb0>>, độ sâu: 3\n",
      "Số quân: <bound method MyChessBoard.count_pieces of <algorithms.MyChessBoard.MyChessBoard object at 0x7f3e2c1cebb0>>, độ sâu: 3\n",
      "Số quân: <bound method MyChessBoard.count_pieces of <algorithms.MyChessBoard.MyChessBoard object at 0x7f3e2c1cebb0>>, độ sâu: 3\n",
      "Số quân: <bound method MyChessBoard.count_pieces of <algorithms.MyChessBoard.MyChessBoard object at 0x7f3e2c1cebb0>>, độ sâu: 3\n",
      "Số quân: <bound method MyChessBoard.count_pieces of <algorithms.MyChessBoard.MyChessBoard object at 0x7f3e2c1cebb0>>, độ sâu: 3\n",
      "Số quân: <bound method MyChessBoard.count_pieces of <algorithms.MyChessBoard.MyChessBoard object at 0x7f3e2c1cebb0>>, độ sâu: 3\n",
      "Số quân: <bound method MyChessBoard.count_pieces of <algorithms.MyChessBoard.MyChessBoard object at 0x7f3e2c1cebb0>>, độ sâu: 3\n",
      "Số quân: <bound method MyChessBoard.count_pieces of <algorithms.MyChessBoard.MyChessBoard object at 0x7f3e2c1cebb0>>, độ sâu: 3\n",
      "Số quân: <bound method MyChessBoard.count_pieces of <algorithms.MyChessBoard.MyChessBoard object at 0x7f3e2c1cebb0>>, độ sâu: 3\n",
      "Số quân: <bound method MyChessBoard.count_pieces of <algorithms.MyChessBoard.MyChessBoard object at 0x7f3e2c1cebb0>>, độ sâu: 3\n",
      "Số quân: <bound method MyChessBoard.count_pieces of <algorithms.MyChessBoard.MyChessBoard object at 0x7f3e2c1cebb0>>, độ sâu: 3\n",
      "Số quân: <bound method MyChessBoard.count_pieces of <algorithms.MyChessBoard.MyChessBoard object at 0x7f3e2c1cebb0>>, độ sâu: 3\n",
      "Số quân: <bound method MyChessBoard.count_pieces of <algorithms.MyChessBoard.MyChessBoard object at 0x7f3e2c1cebb0>>, độ sâu: 3\n",
      "Số quân: <bound method MyChessBoard.count_pieces of <algorithms.MyChessBoard.MyChessBoard object at 0x7f3e2c1cebb0>>, độ sâu: 3\n",
      "Số quân: <bound method MyChessBoard.count_pieces of <algorithms.MyChessBoard.MyChessBoard object at 0x7f3e2c1cebb0>>, độ sâu: 3\n",
      "Số quân: <bound method MyChessBoard.count_pieces of <algorithms.MyChessBoard.MyChessBoard object at 0x7f3e2c1cebb0>>, độ sâu: 3\n",
      "Số quân: <bound method MyChessBoard.count_pieces of <algorithms.MyChessBoard.MyChessBoard object at 0x7f3e2c1cebb0>>, độ sâu: 3\n",
      "Số quân: <bound method MyChessBoard.count_pieces of <algorithms.MyChessBoard.MyChessBoard object at 0x7f3e2c1cebb0>>, độ sâu: 3\n",
      "Số quân: <bound method MyChessBoard.count_pieces of <algorithms.MyChessBoard.MyChessBoard object at 0x7f3e2c1cebb0>>, độ sâu: 3\n",
      "Số quân: <bound method MyChessBoard.count_pieces of <algorithms.MyChessBoard.MyChessBoard object at 0x7f3e2c1cebb0>>, độ sâu: 3\n",
      "Số quân: <bound method MyChessBoard.count_pieces of <algorithms.MyChessBoard.MyChessBoard object at 0x7f3e2c1cebb0>>, độ sâu: 3\n",
      "Số quân: <bound method MyChessBoard.count_pieces of <algorithms.MyChessBoard.MyChessBoard object at 0x7f3e2c1cebb0>>, độ sâu: 3\n",
      "Số quân: <bound method MyChessBoard.count_pieces of <algorithms.MyChessBoard.MyChessBoard object at 0x7f3e2c1cebb0>>, độ sâu: 3\n",
      "Số quân: <bound method MyChessBoard.count_pieces of <algorithms.MyChessBoard.MyChessBoard object at 0x7f3e2c1cebb0>>, độ sâu: 3\n",
      "Số quân: <bound method MyChessBoard.count_pieces of <algorithms.MyChessBoard.MyChessBoard object at 0x7f3e2c1cebb0>>, độ sâu: 3\n",
      "Số quân: <bound method MyChessBoard.count_pieces of <algorithms.MyChessBoard.MyChessBoard object at 0x7f3e2c1cebb0>>, độ sâu: 3\n",
      "Số quân: <bound method MyChessBoard.count_pieces of <algorithms.MyChessBoard.MyChessBoard object at 0x7f3e2c1cebb0>>, độ sâu: 3\n",
      "Số quân: <bound method MyChessBoard.count_pieces of <algorithms.MyChessBoard.MyChessBoard object at 0x7f3e2c1cebb0>>, độ sâu: 3\n",
      "Số quân: <bound method MyChessBoard.count_pieces of <algorithms.MyChessBoard.MyChessBoard object at 0x7f3e2c1cebb0>>, độ sâu: 3\n",
      "Số quân: <bound method MyChessBoard.count_pieces of <algorithms.MyChessBoard.MyChessBoard object at 0x7f3e2c1cebb0>>, độ sâu: 3\n"
     ]
    }
   ],
   "source": [
    "num_battle_with_com1 = 1\n",
    "com1 = 0\n",
    "\n",
    "com2 = 2\n",
    "num_step = []\n",
    "for i in range (num_battle_with_com1):\n",
    "    print(com1, \"vs\", com2, \":\", i)\n",
    "    board = MyChessBoard()\n",
    "    done = False\n",
    "    step = 0\n",
    "    if i < num_battle_with_com1/2:\n",
    "        while not done:\n",
    "            step += 1\n",
    "            board.push(find[com1](board))\n",
    "            if board.is_checkmate(): \n",
    "                result[com1, com2] += 1\n",
    "                done = True\n",
    "                continue\n",
    "            if board.is_draw(): \n",
    "                done = True\n",
    "                continue\n",
    "            board.push(find[com2](board, model888))\n",
    "            if board.is_checkmate(): \n",
    "                result[com2, com1] += 1\n",
    "                done = True\n",
    "            if board.is_draw(): \n",
    "                done = True\n",
    "    else:\n",
    "        while not done:\n",
    "            step += 1\n",
    "            board.push(find[com2](board, model888))\n",
    "            if board.is_checkmate(): \n",
    "                result[com2, com1] += 1\n",
    "                done = True\n",
    "                continue\n",
    "            if board.is_draw(): \n",
    "                done = True\n",
    "                continue\n",
    "            board.push(find[com1](board))\n",
    "            if board.is_checkmate(): \n",
    "                result[com1, com2] += 1\n",
    "                done = True\n",
    "            if board.is_draw(): \n",
    "                done = True\n",
    "    num_step.append(step)"
   ]
  },
  {
   "cell_type": "code",
   "execution_count": 10,
   "metadata": {},
   "outputs": [
    {
     "data": {
      "text/plain": [
       "array([[0., 0., 0., 0.],\n",
       "       [0., 0., 0., 0.],\n",
       "       [1., 0., 0., 0.],\n",
       "       [0., 0., 0., 0.]])"
      ]
     },
     "execution_count": 10,
     "metadata": {},
     "output_type": "execute_result"
    }
   ],
   "source": [
    "result"
   ]
  },
  {
   "cell_type": "code",
   "execution_count": 11,
   "metadata": {},
   "outputs": [
    {
     "data": {
      "text/plain": [
       "[31]"
      ]
     },
     "execution_count": 11,
     "metadata": {},
     "output_type": "execute_result"
    }
   ],
   "source": [
    "num_step"
   ]
  }
 ],
 "metadata": {
  "interpreter": {
   "hash": "f9f85f796d01129d0dd105a088854619f454435301f6ffec2fea96ecbd9be4ac"
  },
  "kernelspec": {
   "display_name": "Python 3.9.5 64-bit",
   "language": "python",
   "name": "python3"
  },
  "language_info": {
   "codemirror_mode": {
    "name": "ipython",
    "version": 3
   },
   "file_extension": ".py",
   "mimetype": "text/x-python",
   "name": "python",
   "nbconvert_exporter": "python",
   "pygments_lexer": "ipython3",
   "version": "3.9.5"
  },
  "orig_nbformat": 4
 },
 "nbformat": 4,
 "nbformat_minor": 2
}
